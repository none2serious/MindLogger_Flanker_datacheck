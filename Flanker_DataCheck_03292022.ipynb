{
 "cells": [
  {
   "cell_type": "markdown",
   "id": "76499cf2-4739-492e-8880-894d4f0a4240",
   "metadata": {},
   "source": [
    "# MindLogger Flanker Data Check - 03/24/22 dataset"
   ]
  },
  {
   "cell_type": "code",
   "execution_count": 121,
   "id": "a3f6a148-7dd7-47c6-bc6e-e9f4c2eb557c",
   "metadata": {},
   "outputs": [],
   "source": [
    "import numpy as np\n",
    "import pandas as pd\n",
    "import matplotlib.pyplot as plt\n",
    "import seaborn as sns\n",
    "import glob"
   ]
  },
  {
   "cell_type": "code",
   "execution_count": 122,
   "id": "be19ceff-a08c-4326-934e-d3376c90221d",
   "metadata": {},
   "outputs": [],
   "source": [
    "sns.set_context(\"notebook\")"
   ]
  },
  {
   "cell_type": "markdown",
   "id": "bf324352-760e-417d-901e-a5c9f8a1884f",
   "metadata": {
    "tags": []
   },
   "source": [
    "### Create dictionaries to map trial_type values to dimensions of interest"
   ]
  },
  {
   "cell_type": "code",
   "execution_count": 123,
   "id": "5db635c0-0035-4a8b-b724-e9256e85202f",
   "metadata": {},
   "outputs": [],
   "source": [
    "flanker_type = {1:\"Neutral\", 2:\"Neutral\", 3:\"Congruent\", 4:\"Congruent\", 5:\"Incongruent\", 6:\"Incongruent\"}\n",
    "left_right = {1:\"L\", 2:\"R\", 3:\"L\", 4:\"R\", 5:\"L\", 6:\"R\"}"
   ]
  },
  {
   "cell_type": "markdown",
   "id": "17328e41-581f-4acc-936d-a98ed847ebdc",
   "metadata": {},
   "source": [
    "### Load and map values"
   ]
  },
  {
   "cell_type": "code",
   "execution_count": 124,
   "id": "217ae1a6-6de2-4a75-9b69-3ee2705167c6",
   "metadata": {},
   "outputs": [],
   "source": [
    "def load_flanker(prefix):\n",
    "    DF = pd.read_csv(f\"{prefix}_test1.csv\")\n",
    "    for k in [2,3]:\n",
    "        tmp = pd.read_csv(f\"{prefix}_test{k}.csv\")\n",
    "        DF = pd.concat([DF, tmp], ignore_index=True)\n",
    "    return(DF)"
   ]
  },
  {
   "cell_type": "code",
   "execution_count": 125,
   "id": "70551b46-6358-4e46-84ba-a11e1834658f",
   "metadata": {},
   "outputs": [
    {
     "data": {
      "text/html": [
       "<div>\n",
       "<style scoped>\n",
       "    .dataframe tbody tr th:only-of-type {\n",
       "        vertical-align: middle;\n",
       "    }\n",
       "\n",
       "    .dataframe tbody tr th {\n",
       "        vertical-align: top;\n",
       "    }\n",
       "\n",
       "    .dataframe thead th {\n",
       "        text-align: right;\n",
       "    }\n",
       "</style>\n",
       "<table border=\"1\" class=\"dataframe\">\n",
       "  <thead>\n",
       "    <tr style=\"text-align: right;\">\n",
       "      <th></th>\n",
       "      <th>block_number</th>\n",
       "      <th>trial_number</th>\n",
       "      <th>trial_type</th>\n",
       "      <th>event_type</th>\n",
       "      <th>experiment_start_timestamp</th>\n",
       "      <th>block_start_timestamp</th>\n",
       "      <th>trial_start_timestamp</th>\n",
       "      <th>event_start_timestamp</th>\n",
       "      <th>video_display_request_timestamp</th>\n",
       "      <th>response_touch_timestamp</th>\n",
       "      <th>trial_offset</th>\n",
       "      <th>event_offset</th>\n",
       "      <th>response_time</th>\n",
       "      <th>response</th>\n",
       "      <th>response_accuracy</th>\n",
       "      <th>flanker_type</th>\n",
       "      <th>correct_resp</th>\n",
       "    </tr>\n",
       "  </thead>\n",
       "  <tbody>\n",
       "    <tr>\n",
       "      <th>0</th>\n",
       "      <td>1</td>\n",
       "      <td>1</td>\n",
       "      <td>6</td>\n",
       "      <td>Fixation</td>\n",
       "      <td>1647915482083</td>\n",
       "      <td>1647915537228</td>\n",
       "      <td>1647915537228</td>\n",
       "      <td>1647915537228</td>\n",
       "      <td>1647915537228</td>\n",
       "      <td>.</td>\n",
       "      <td>0</td>\n",
       "      <td>0</td>\n",
       "      <td>.</td>\n",
       "      <td>.</td>\n",
       "      <td>.</td>\n",
       "      <td>Incongruent</td>\n",
       "      <td>R</td>\n",
       "    </tr>\n",
       "    <tr>\n",
       "      <th>1</th>\n",
       "      <td>1</td>\n",
       "      <td>1</td>\n",
       "      <td>6</td>\n",
       "      <td>Stimulus</td>\n",
       "      <td>1647915482083</td>\n",
       "      <td>1647915537228</td>\n",
       "      <td>1647915537228</td>\n",
       "      <td>1647915537732</td>\n",
       "      <td>1647915537733</td>\n",
       "      <td>.</td>\n",
       "      <td>0</td>\n",
       "      <td>504</td>\n",
       "      <td>.</td>\n",
       "      <td>.</td>\n",
       "      <td>.</td>\n",
       "      <td>Incongruent</td>\n",
       "      <td>R</td>\n",
       "    </tr>\n",
       "    <tr>\n",
       "      <th>2</th>\n",
       "      <td>1</td>\n",
       "      <td>1</td>\n",
       "      <td>6</td>\n",
       "      <td>Response</td>\n",
       "      <td>.</td>\n",
       "      <td>.</td>\n",
       "      <td>.</td>\n",
       "      <td>.</td>\n",
       "      <td>.</td>\n",
       "      <td>1647915538353</td>\n",
       "      <td>0</td>\n",
       "      <td>.</td>\n",
       "      <td>620.0000000000002</td>\n",
       "      <td>R</td>\n",
       "      <td>1</td>\n",
       "      <td>Incongruent</td>\n",
       "      <td>R</td>\n",
       "    </tr>\n",
       "    <tr>\n",
       "      <th>3</th>\n",
       "      <td>1</td>\n",
       "      <td>2</td>\n",
       "      <td>2</td>\n",
       "      <td>Fixation</td>\n",
       "      <td>1647915482083</td>\n",
       "      <td>1647915537228</td>\n",
       "      <td>1647915538354</td>\n",
       "      <td>1647915538354</td>\n",
       "      <td>1647915538354</td>\n",
       "      <td>.</td>\n",
       "      <td>1126</td>\n",
       "      <td>0</td>\n",
       "      <td>.</td>\n",
       "      <td>.</td>\n",
       "      <td>.</td>\n",
       "      <td>Neutral</td>\n",
       "      <td>R</td>\n",
       "    </tr>\n",
       "    <tr>\n",
       "      <th>4</th>\n",
       "      <td>1</td>\n",
       "      <td>2</td>\n",
       "      <td>2</td>\n",
       "      <td>Stimulus</td>\n",
       "      <td>1647915482083</td>\n",
       "      <td>1647915537228</td>\n",
       "      <td>1647915538354</td>\n",
       "      <td>1647915538857</td>\n",
       "      <td>1647915538858</td>\n",
       "      <td>.</td>\n",
       "      <td>1126</td>\n",
       "      <td>503</td>\n",
       "      <td>.</td>\n",
       "      <td>.</td>\n",
       "      <td>.</td>\n",
       "      <td>Neutral</td>\n",
       "      <td>R</td>\n",
       "    </tr>\n",
       "    <tr>\n",
       "      <th>5</th>\n",
       "      <td>1</td>\n",
       "      <td>2</td>\n",
       "      <td>2</td>\n",
       "      <td>Response</td>\n",
       "      <td>.</td>\n",
       "      <td>.</td>\n",
       "      <td>.</td>\n",
       "      <td>.</td>\n",
       "      <td>.</td>\n",
       "      <td>1647915539263</td>\n",
       "      <td>1126</td>\n",
       "      <td>.</td>\n",
       "      <td>405</td>\n",
       "      <td>R</td>\n",
       "      <td>1</td>\n",
       "      <td>Neutral</td>\n",
       "      <td>R</td>\n",
       "    </tr>\n",
       "    <tr>\n",
       "      <th>6</th>\n",
       "      <td>1</td>\n",
       "      <td>3</td>\n",
       "      <td>4</td>\n",
       "      <td>Fixation</td>\n",
       "      <td>1647915482083</td>\n",
       "      <td>1647915537228</td>\n",
       "      <td>1647915539264</td>\n",
       "      <td>1647915539264</td>\n",
       "      <td>1647915539264</td>\n",
       "      <td>.</td>\n",
       "      <td>2036</td>\n",
       "      <td>0</td>\n",
       "      <td>.</td>\n",
       "      <td>.</td>\n",
       "      <td>.</td>\n",
       "      <td>Congruent</td>\n",
       "      <td>R</td>\n",
       "    </tr>\n",
       "    <tr>\n",
       "      <th>7</th>\n",
       "      <td>1</td>\n",
       "      <td>3</td>\n",
       "      <td>4</td>\n",
       "      <td>Stimulus</td>\n",
       "      <td>1647915482083</td>\n",
       "      <td>1647915537228</td>\n",
       "      <td>1647915539264</td>\n",
       "      <td>1647915539767</td>\n",
       "      <td>1647915539768</td>\n",
       "      <td>.</td>\n",
       "      <td>2036</td>\n",
       "      <td>503</td>\n",
       "      <td>.</td>\n",
       "      <td>.</td>\n",
       "      <td>.</td>\n",
       "      <td>Congruent</td>\n",
       "      <td>R</td>\n",
       "    </tr>\n",
       "    <tr>\n",
       "      <th>8</th>\n",
       "      <td>1</td>\n",
       "      <td>3</td>\n",
       "      <td>4</td>\n",
       "      <td>Response</td>\n",
       "      <td>.</td>\n",
       "      <td>.</td>\n",
       "      <td>.</td>\n",
       "      <td>.</td>\n",
       "      <td>.</td>\n",
       "      <td>1647915540157</td>\n",
       "      <td>2036</td>\n",
       "      <td>.</td>\n",
       "      <td>389</td>\n",
       "      <td>R</td>\n",
       "      <td>1</td>\n",
       "      <td>Congruent</td>\n",
       "      <td>R</td>\n",
       "    </tr>\n",
       "    <tr>\n",
       "      <th>9</th>\n",
       "      <td>1</td>\n",
       "      <td>4</td>\n",
       "      <td>5</td>\n",
       "      <td>Fixation</td>\n",
       "      <td>1647915482083</td>\n",
       "      <td>1647915537228</td>\n",
       "      <td>1647915540158</td>\n",
       "      <td>1647915540158</td>\n",
       "      <td>1647915540158</td>\n",
       "      <td>.</td>\n",
       "      <td>2930</td>\n",
       "      <td>0</td>\n",
       "      <td>.</td>\n",
       "      <td>.</td>\n",
       "      <td>.</td>\n",
       "      <td>Incongruent</td>\n",
       "      <td>L</td>\n",
       "    </tr>\n",
       "  </tbody>\n",
       "</table>\n",
       "</div>"
      ],
      "text/plain": [
       "   block_number  trial_number  trial_type event_type  \\\n",
       "0             1             1           6   Fixation   \n",
       "1             1             1           6   Stimulus   \n",
       "2             1             1           6   Response   \n",
       "3             1             2           2   Fixation   \n",
       "4             1             2           2   Stimulus   \n",
       "5             1             2           2   Response   \n",
       "6             1             3           4   Fixation   \n",
       "7             1             3           4   Stimulus   \n",
       "8             1             3           4   Response   \n",
       "9             1             4           5   Fixation   \n",
       "\n",
       "  experiment_start_timestamp block_start_timestamp trial_start_timestamp  \\\n",
       "0              1647915482083         1647915537228         1647915537228   \n",
       "1              1647915482083         1647915537228         1647915537228   \n",
       "2                          .                     .                     .   \n",
       "3              1647915482083         1647915537228         1647915538354   \n",
       "4              1647915482083         1647915537228         1647915538354   \n",
       "5                          .                     .                     .   \n",
       "6              1647915482083         1647915537228         1647915539264   \n",
       "7              1647915482083         1647915537228         1647915539264   \n",
       "8                          .                     .                     .   \n",
       "9              1647915482083         1647915537228         1647915540158   \n",
       "\n",
       "  event_start_timestamp video_display_request_timestamp  \\\n",
       "0         1647915537228                   1647915537228   \n",
       "1         1647915537732                   1647915537733   \n",
       "2                     .                               .   \n",
       "3         1647915538354                   1647915538354   \n",
       "4         1647915538857                   1647915538858   \n",
       "5                     .                               .   \n",
       "6         1647915539264                   1647915539264   \n",
       "7         1647915539767                   1647915539768   \n",
       "8                     .                               .   \n",
       "9         1647915540158                   1647915540158   \n",
       "\n",
       "  response_touch_timestamp  trial_offset event_offset      response_time  \\\n",
       "0                        .             0            0                  .   \n",
       "1                        .             0          504                  .   \n",
       "2            1647915538353             0            .  620.0000000000002   \n",
       "3                        .          1126            0                  .   \n",
       "4                        .          1126          503                  .   \n",
       "5            1647915539263          1126            .                405   \n",
       "6                        .          2036            0                  .   \n",
       "7                        .          2036          503                  .   \n",
       "8            1647915540157          2036            .                389   \n",
       "9                        .          2930            0                  .   \n",
       "\n",
       "  response response_accuracy flanker_type correct_resp  \n",
       "0        .                 .  Incongruent            R  \n",
       "1        .                 .  Incongruent            R  \n",
       "2        R                 1  Incongruent            R  \n",
       "3        .                 .      Neutral            R  \n",
       "4        .                 .      Neutral            R  \n",
       "5        R                 1      Neutral            R  \n",
       "6        .                 .    Congruent            R  \n",
       "7        .                 .    Congruent            R  \n",
       "8        R                 1    Congruent            R  \n",
       "9        .                 .  Incongruent            L  "
      ]
     },
     "execution_count": 125,
     "metadata": {},
     "output_type": "execute_result"
    }
   ],
   "source": [
    "df = load_flanker(\"623933705197b94689825e8d\")\n",
    "df[\"flanker_type\"] = df.trial_type.map(flanker_type)\n",
    "df[\"correct_resp\"] = df.trial_type.map(left_right)\n",
    "df.head(n=10)"
   ]
  },
  {
   "cell_type": "markdown",
   "id": "a9765901-5e73-4e25-b5b1-0d1b146de69e",
   "metadata": {},
   "source": [
    "## Split into three event types"
   ]
  },
  {
   "cell_type": "code",
   "execution_count": 126,
   "id": "e64c7d9d-597c-48f9-b70c-143acec3786a",
   "metadata": {},
   "outputs": [],
   "source": [
    "# copying as new dataframes, rather than creating a view.\n",
    "# not 100% necessary, but prevents inadvertent errors and \n",
    "# avoids upsetting Pandas\n",
    "resp = df[df.event_type == \"Response\"].copy()\n",
    "fix = df[df.event_type == \"Fixation\"].copy()\n",
    "stim = df[df.event_type == \"Stimulus\"].copy()"
   ]
  },
  {
   "cell_type": "markdown",
   "id": "5a9f2190-7a88-43f4-aa94-20bd1d84306c",
   "metadata": {},
   "source": [
    "## All data are saved as fully-quoted strings with missing values non-overlapping event time columns, so we need to convert relevant columns to appropriate numeric values"
   ]
  },
  {
   "cell_type": "code",
   "execution_count": 127,
   "id": "2ec423cc-e6bd-485f-9daa-d94fa1e979dc",
   "metadata": {},
   "outputs": [],
   "source": [
    "# Non-response events\n",
    "non_resp_ints = ['experiment_start_timestamp',\n",
    " 'block_start_timestamp',\n",
    " 'trial_start_timestamp',\n",
    " 'event_start_timestamp',\n",
    " 'video_display_request_timestamp',\n",
    " 'trial_offset',\n",
    " 'event_offset']\n",
    "# Response events\n",
    "response_ints = ['response_touch_timestamp',\n",
    " 'trial_offset',\n",
    " 'response_accuracy']\n",
    "\n",
    "for n in non_resp_ints:\n",
    "    fix[n] = fix[n].map(int)\n",
    "    stim[n] = stim[n].map(int)\n",
    "\n",
    "for r in response_ints:\n",
    "    resp[r] = resp[r].map(int)\n",
    "\n",
    "resp.response_time = resp.response_time.map(float)"
   ]
  },
  {
   "cell_type": "markdown",
   "id": "f13c116e-e41d-4f5d-8664-3b92722a78a5",
   "metadata": {},
   "source": [
    "## Quick sanity checks on Response data"
   ]
  },
  {
   "cell_type": "markdown",
   "id": "3aa8cc60-5998-4dba-a6b1-0464a2bc6a4b",
   "metadata": {},
   "source": [
    "### Overall Mean RT"
   ]
  },
  {
   "cell_type": "code",
   "execution_count": 128,
   "id": "fe3ccf60-c643-4a89-b0b7-b3277c0734ae",
   "metadata": {},
   "outputs": [
    {
     "data": {
      "text/plain": [
       "flanker_type\n",
       "Congruent      424.225\n",
       "Incongruent    475.050\n",
       "Neutral        419.025\n",
       "Name: response_time, dtype: float64"
      ]
     },
     "execution_count": 128,
     "metadata": {},
     "output_type": "execute_result"
    }
   ],
   "source": [
    "resp.groupby(\"flanker_type\").response_time.mean()"
   ]
  },
  {
   "cell_type": "markdown",
   "id": "2c30d3bb-887d-4804-8024-5f13ce0bd540",
   "metadata": {},
   "source": [
    "#### RTs match expectations for relative RTs (N<C<I), at least nominally [above]"
   ]
  },
  {
   "cell_type": "markdown",
   "id": "9c98d891-2573-4346-97ae-384d447fb071",
   "metadata": {},
   "source": [
    "### Overall Mean Accuracy"
   ]
  },
  {
   "cell_type": "code",
   "execution_count": 129,
   "id": "4078cb5d-f856-4df7-9757-f0a28bcce0d4",
   "metadata": {},
   "outputs": [
    {
     "data": {
      "text/plain": [
       "flanker_type\n",
       "Congruent      96.666667\n",
       "Incongruent    76.666667\n",
       "Neutral        90.833333\n",
       "Name: response_accuracy, dtype: float64"
      ]
     },
     "execution_count": 129,
     "metadata": {},
     "output_type": "execute_result"
    }
   ],
   "source": [
    "resp.groupby(\"flanker_type\").response_accuracy.mean() * 100"
   ]
  },
  {
   "cell_type": "markdown",
   "id": "ee055c15-15f6-4893-87b9-5819ffab8a08",
   "metadata": {},
   "source": [
    "#### Accuracy at least shows I < C,N - But this could just be an idiosyncracy of the test subject [above]"
   ]
  },
  {
   "cell_type": "markdown",
   "id": "ab10a99a-c343-4c12-b40e-de753aa07116",
   "metadata": {},
   "source": [
    "### RTs for Correct Trials Only"
   ]
  },
  {
   "cell_type": "code",
   "execution_count": 130,
   "id": "304f7c07-3f09-4ff2-a51a-438c65eb5dee",
   "metadata": {},
   "outputs": [
    {
     "data": {
      "text/plain": [
       "flanker_type\n",
       "Congruent      423.250000\n",
       "Incongruent    499.880435\n",
       "Neutral        427.844037\n",
       "Name: response_time, dtype: float64"
      ]
     },
     "execution_count": 130,
     "metadata": {},
     "output_type": "execute_result"
    }
   ],
   "source": [
    "resp[resp.response_accuracy == 1].groupby(\"flanker_type\").response_time.mean()"
   ]
  },
  {
   "cell_type": "markdown",
   "id": "d6c7f94a-fc44-4469-b1f5-ff91f2635408",
   "metadata": {},
   "source": [
    "#### Excluding error trials sharpens the overall pattern [above]"
   ]
  },
  {
   "cell_type": "markdown",
   "id": "8c237d4b-f202-4fb7-894e-d2268cc8dc02",
   "metadata": {},
   "source": [
    "### Left vs. Right"
   ]
  },
  {
   "cell_type": "code",
   "execution_count": 131,
   "id": "fafff756-db9a-4ba8-b07e-612bcd0df382",
   "metadata": {},
   "outputs": [
    {
     "data": {
      "text/plain": [
       "response\n",
       "L    455.200000\n",
       "R    438.783439\n",
       "Name: response_time, dtype: float64"
      ]
     },
     "execution_count": 131,
     "metadata": {},
     "output_type": "execute_result"
    }
   ],
   "source": [
    "resp[resp.response_accuracy == 1].groupby(\"response\").response_time.mean()"
   ]
  },
  {
   "cell_type": "markdown",
   "id": "6a484a76-3c6a-4ba8-961e-a4508320ffec",
   "metadata": {},
   "source": [
    "#### Handedness also lines up, given a right-handed participant [above]"
   ]
  },
  {
   "cell_type": "markdown",
   "id": "f654192f-a889-4104-8642-dd23bd87af98",
   "metadata": {},
   "source": [
    "### On first pass, the behavioral data look sensible"
   ]
  },
  {
   "cell_type": "markdown",
   "id": "29203a42-039c-4479-b679-ef0349141418",
   "metadata": {
    "tags": []
   },
   "source": [
    "## Flatten Data"
   ]
  },
  {
   "cell_type": "markdown",
   "id": "005a10e5-a064-4745-a0d6-801005342db0",
   "metadata": {},
   "source": [
    "### Wide format is much easier to deal with in virtually all analytic frameworks.<br> Much of the data in stim and fix rows is redundant; also creating sanity checking variables more immediately interpretable than long ints"
   ]
  },
  {
   "cell_type": "code",
   "execution_count": 132,
   "id": "5da7fb3c-6075-49f2-ab13-d9323c588838",
   "metadata": {},
   "outputs": [
    {
     "data": {
      "text/html": [
       "<div>\n",
       "<style scoped>\n",
       "    .dataframe tbody tr th:only-of-type {\n",
       "        vertical-align: middle;\n",
       "    }\n",
       "\n",
       "    .dataframe tbody tr th {\n",
       "        vertical-align: top;\n",
       "    }\n",
       "\n",
       "    .dataframe thead th {\n",
       "        text-align: right;\n",
       "    }\n",
       "</style>\n",
       "<table border=\"1\" class=\"dataframe\">\n",
       "  <thead>\n",
       "    <tr style=\"text-align: right;\">\n",
       "      <th></th>\n",
       "      <th>block_number</th>\n",
       "      <th>trial_number</th>\n",
       "      <th>trial_type</th>\n",
       "      <th>experiment_start_timestamp</th>\n",
       "      <th>block_start_timestamp</th>\n",
       "      <th>trial_start_timestamp</th>\n",
       "      <th>flanker_type</th>\n",
       "      <th>stim_trial_start_ts</th>\n",
       "      <th>stim_display_request_ts</th>\n",
       "      <th>response_timestamp</th>\n",
       "      <th>response_time</th>\n",
       "      <th>response_accuracy</th>\n",
       "      <th>block_to_fix_time</th>\n",
       "      <th>fix_to_stim_time</th>\n",
       "      <th>stim_time_to_display_time</th>\n",
       "      <th>stim_to_response</th>\n",
       "    </tr>\n",
       "  </thead>\n",
       "  <tbody>\n",
       "    <tr>\n",
       "      <th>0</th>\n",
       "      <td>1</td>\n",
       "      <td>1</td>\n",
       "      <td>6</td>\n",
       "      <td>1647915482083</td>\n",
       "      <td>1647915537228</td>\n",
       "      <td>1647915537228</td>\n",
       "      <td>Incongruent</td>\n",
       "      <td>1647915537732</td>\n",
       "      <td>1647915537733</td>\n",
       "      <td>1647915538353</td>\n",
       "      <td>620.0</td>\n",
       "      <td>1</td>\n",
       "      <td>0</td>\n",
       "      <td>504</td>\n",
       "      <td>1</td>\n",
       "      <td>620</td>\n",
       "    </tr>\n",
       "    <tr>\n",
       "      <th>3</th>\n",
       "      <td>1</td>\n",
       "      <td>2</td>\n",
       "      <td>2</td>\n",
       "      <td>1647915482083</td>\n",
       "      <td>1647915537228</td>\n",
       "      <td>1647915538354</td>\n",
       "      <td>Neutral</td>\n",
       "      <td>1647915538857</td>\n",
       "      <td>1647915538858</td>\n",
       "      <td>1647915539263</td>\n",
       "      <td>405.0</td>\n",
       "      <td>1</td>\n",
       "      <td>1126</td>\n",
       "      <td>503</td>\n",
       "      <td>1</td>\n",
       "      <td>405</td>\n",
       "    </tr>\n",
       "    <tr>\n",
       "      <th>6</th>\n",
       "      <td>1</td>\n",
       "      <td>3</td>\n",
       "      <td>4</td>\n",
       "      <td>1647915482083</td>\n",
       "      <td>1647915537228</td>\n",
       "      <td>1647915539264</td>\n",
       "      <td>Congruent</td>\n",
       "      <td>1647915539767</td>\n",
       "      <td>1647915539768</td>\n",
       "      <td>1647915540157</td>\n",
       "      <td>389.0</td>\n",
       "      <td>1</td>\n",
       "      <td>2036</td>\n",
       "      <td>503</td>\n",
       "      <td>1</td>\n",
       "      <td>389</td>\n",
       "    </tr>\n",
       "    <tr>\n",
       "      <th>9</th>\n",
       "      <td>1</td>\n",
       "      <td>4</td>\n",
       "      <td>5</td>\n",
       "      <td>1647915482083</td>\n",
       "      <td>1647915537228</td>\n",
       "      <td>1647915540158</td>\n",
       "      <td>Incongruent</td>\n",
       "      <td>1647915540661</td>\n",
       "      <td>1647915540661</td>\n",
       "      <td>1647915540959</td>\n",
       "      <td>298.0</td>\n",
       "      <td>0</td>\n",
       "      <td>2930</td>\n",
       "      <td>503</td>\n",
       "      <td>0</td>\n",
       "      <td>298</td>\n",
       "    </tr>\n",
       "    <tr>\n",
       "      <th>12</th>\n",
       "      <td>1</td>\n",
       "      <td>5</td>\n",
       "      <td>1</td>\n",
       "      <td>1647915482083</td>\n",
       "      <td>1647915537228</td>\n",
       "      <td>1647915540960</td>\n",
       "      <td>Neutral</td>\n",
       "      <td>1647915541463</td>\n",
       "      <td>1647915541463</td>\n",
       "      <td>1647915541844</td>\n",
       "      <td>381.0</td>\n",
       "      <td>1</td>\n",
       "      <td>3732</td>\n",
       "      <td>503</td>\n",
       "      <td>0</td>\n",
       "      <td>381</td>\n",
       "    </tr>\n",
       "  </tbody>\n",
       "</table>\n",
       "</div>"
      ],
      "text/plain": [
       "    block_number  trial_number  trial_type  experiment_start_timestamp  \\\n",
       "0              1             1           6               1647915482083   \n",
       "3              1             2           2               1647915482083   \n",
       "6              1             3           4               1647915482083   \n",
       "9              1             4           5               1647915482083   \n",
       "12             1             5           1               1647915482083   \n",
       "\n",
       "    block_start_timestamp  trial_start_timestamp flanker_type  \\\n",
       "0           1647915537228          1647915537228  Incongruent   \n",
       "3           1647915537228          1647915538354      Neutral   \n",
       "6           1647915537228          1647915539264    Congruent   \n",
       "9           1647915537228          1647915540158  Incongruent   \n",
       "12          1647915537228          1647915540960      Neutral   \n",
       "\n",
       "    stim_trial_start_ts  stim_display_request_ts  response_timestamp  \\\n",
       "0         1647915537732            1647915537733       1647915538353   \n",
       "3         1647915538857            1647915538858       1647915539263   \n",
       "6         1647915539767            1647915539768       1647915540157   \n",
       "9         1647915540661            1647915540661       1647915540959   \n",
       "12        1647915541463            1647915541463       1647915541844   \n",
       "\n",
       "    response_time  response_accuracy  block_to_fix_time  fix_to_stim_time  \\\n",
       "0           620.0                  1                  0               504   \n",
       "3           405.0                  1               1126               503   \n",
       "6           389.0                  1               2036               503   \n",
       "9           298.0                  0               2930               503   \n",
       "12          381.0                  1               3732               503   \n",
       "\n",
       "    stim_time_to_display_time  stim_to_response  \n",
       "0                           1               620  \n",
       "3                           1               405  \n",
       "6                           1               389  \n",
       "9                           0               298  \n",
       "12                          0               381  "
      ]
     },
     "execution_count": 132,
     "metadata": {},
     "output_type": "execute_result"
    }
   ],
   "source": [
    "flat = fix[[\"block_number\",\n",
    "           \"trial_number\",\n",
    "           \"trial_type\",\n",
    "           'experiment_start_timestamp',\n",
    "           'block_start_timestamp',\n",
    "           'trial_start_timestamp']].copy()\n",
    "flat[\"flanker_type\"] = resp.flanker_type.values\n",
    "flat[\"stim_trial_start_ts\"] = stim.event_start_timestamp.values\n",
    "flat[\"stim_display_request_ts\"] = stim.video_display_request_timestamp.values\n",
    "flat[\"response_timestamp\"] = resp.response_touch_timestamp.values\n",
    "flat[\"response_time\"] = resp.response_time.values\n",
    "flat[\"response_accuracy\"] = resp.response_accuracy.values\n",
    "flat[\"block_to_fix_time\"] = flat.trial_start_timestamp - flat.block_start_timestamp\n",
    "flat[\"fix_to_stim_time\"] = flat.stim_trial_start_ts - flat.trial_start_timestamp\n",
    "flat[\"stim_time_to_display_time\"] = flat.stim_display_request_ts - flat.stim_trial_start_ts\n",
    "flat[\"stim_to_response\"] = flat.response_timestamp - flat.stim_display_request_ts # sanity check that response_time matches values directly computed from columns\n",
    "\n",
    "flat.head(n=5)"
   ]
  },
  {
   "cell_type": "code",
   "execution_count": 133,
   "id": "64eecdad-82a4-4f16-ac49-02d988096767",
   "metadata": {},
   "outputs": [
    {
     "data": {
      "text/html": [
       "<div>\n",
       "<style scoped>\n",
       "    .dataframe tbody tr th:only-of-type {\n",
       "        vertical-align: middle;\n",
       "    }\n",
       "\n",
       "    .dataframe tbody tr th {\n",
       "        vertical-align: top;\n",
       "    }\n",
       "\n",
       "    .dataframe thead th {\n",
       "        text-align: right;\n",
       "    }\n",
       "</style>\n",
       "<table border=\"1\" class=\"dataframe\">\n",
       "  <thead>\n",
       "    <tr style=\"text-align: right;\">\n",
       "      <th></th>\n",
       "      <th>time_interval_ms</th>\n",
       "      <th>count_at_interval</th>\n",
       "    </tr>\n",
       "  </thead>\n",
       "  <tbody>\n",
       "    <tr>\n",
       "      <th>0</th>\n",
       "      <td>0</td>\n",
       "      <td>278</td>\n",
       "    </tr>\n",
       "    <tr>\n",
       "      <th>1</th>\n",
       "      <td>1</td>\n",
       "      <td>82</td>\n",
       "    </tr>\n",
       "  </tbody>\n",
       "</table>\n",
       "</div>"
      ],
      "text/plain": [
       "   time_interval_ms  count_at_interval\n",
       "0                 0                278\n",
       "1                 1                 82"
      ]
     },
     "execution_count": 133,
     "metadata": {},
     "output_type": "execute_result"
    }
   ],
   "source": [
    "d = dict(flat.stim_time_to_display_time.value_counts())\n",
    "v = pd.DataFrame(columns=[\"time_interval_ms\",\"count_at_interval\"])\n",
    "v.time_interval_ms = d.keys()\n",
    "v.count_at_interval = d.values()\n",
    "v.sort_values(\"time_interval_ms\").head()"
   ]
  },
  {
   "cell_type": "markdown",
   "id": "93b72e23-3108-4d97-a174-4485a68bb93d",
   "metadata": {},
   "source": [
    "#### The stim display request times are virtually perfectly aligned with the stim start times, with a max variation of 1ms on only ~23% of trials\n",
    "This might seem good, but it just underscores that the true display times are divorced from the recorded display times. <br>Well, maybe not divorced, but at least estranged. This will be obvious to anyone looking closely at the output."
   ]
  },
  {
   "cell_type": "markdown",
   "id": "bcf07eb8-1ae8-40bf-9573-a73cbec80699",
   "metadata": {},
   "source": [
    "## Check response to next trial time interval"
   ]
  },
  {
   "cell_type": "code",
   "execution_count": 134,
   "id": "ce0a04c4-ca0a-44a1-8c0b-8b88033e8374",
   "metadata": {},
   "outputs": [],
   "source": [
    "resp_to_next_interval = []\n",
    "for block in [1,2,3]:\n",
    "    tmp = flat[flat.block_number == block]\n",
    "    interval = [tmp.trial_start_timestamp.values[k] - tmp.response_timestamp.values[k-1] for k in np.arange(1,len(tmp)-1)]\n",
    "    resp_to_next_interval.extend(interval)\n",
    "resp_to_next_interval = pd.Series(resp_to_next_interval)"
   ]
  },
  {
   "cell_type": "markdown",
   "id": "8838772c-fd0b-429b-a4b9-839a0477e0f9",
   "metadata": {},
   "source": [
    "### Get an idea of the distributions of interval values"
   ]
  },
  {
   "cell_type": "code",
   "execution_count": 135,
   "id": "e43fe6f9-b88f-4b31-a52a-836ebe265e76",
   "metadata": {},
   "outputs": [
    {
     "data": {
      "text/html": [
       "<div>\n",
       "<style scoped>\n",
       "    .dataframe tbody tr th:only-of-type {\n",
       "        vertical-align: middle;\n",
       "    }\n",
       "\n",
       "    .dataframe tbody tr th {\n",
       "        vertical-align: top;\n",
       "    }\n",
       "\n",
       "    .dataframe thead th {\n",
       "        text-align: right;\n",
       "    }\n",
       "</style>\n",
       "<table border=\"1\" class=\"dataframe\">\n",
       "  <thead>\n",
       "    <tr style=\"text-align: right;\">\n",
       "      <th></th>\n",
       "      <th>time_interval_ms</th>\n",
       "      <th>count_at_interval</th>\n",
       "    </tr>\n",
       "  </thead>\n",
       "  <tbody>\n",
       "    <tr>\n",
       "      <th>2</th>\n",
       "      <td>0</td>\n",
       "      <td>30</td>\n",
       "    </tr>\n",
       "    <tr>\n",
       "      <th>0</th>\n",
       "      <td>1</td>\n",
       "      <td>201</td>\n",
       "    </tr>\n",
       "    <tr>\n",
       "      <th>1</th>\n",
       "      <td>2</td>\n",
       "      <td>111</td>\n",
       "    </tr>\n",
       "    <tr>\n",
       "      <th>3</th>\n",
       "      <td>3</td>\n",
       "      <td>9</td>\n",
       "    </tr>\n",
       "    <tr>\n",
       "      <th>4</th>\n",
       "      <td>4</td>\n",
       "      <td>3</td>\n",
       "    </tr>\n",
       "  </tbody>\n",
       "</table>\n",
       "</div>"
      ],
      "text/plain": [
       "   time_interval_ms  count_at_interval\n",
       "2                 0                 30\n",
       "0                 1                201\n",
       "1                 2                111\n",
       "3                 3                  9\n",
       "4                 4                  3"
      ]
     },
     "execution_count": 135,
     "metadata": {},
     "output_type": "execute_result"
    }
   ],
   "source": [
    "d = dict(resp_to_next_interval.value_counts())\n",
    "v = pd.DataFrame(columns=[\"time_interval_ms\",\"count_at_interval\"])\n",
    "v.time_interval_ms = d.keys()\n",
    "v.count_at_interval = d.values()\n",
    "v.sort_values(\"time_interval_ms\").head()"
   ]
  },
  {
   "cell_type": "code",
   "execution_count": 136,
   "id": "5a64bd6a-b78b-41b3-bd7a-766f3a9fee29",
   "metadata": {},
   "outputs": [
    {
     "data": {
      "text/plain": [
       "1.305084745762712"
      ]
     },
     "execution_count": 136,
     "metadata": {},
     "output_type": "execute_result"
    }
   ],
   "source": [
    "resp_to_next_interval.mean()"
   ]
  },
  {
   "cell_type": "markdown",
   "id": "d6449652-3e0a-41fd-bc51-16bb8bc69d3d",
   "metadata": {},
   "source": [
    "### Interval from response time to next trial onset is also almost perfectly aligned, with a min of 0ms, a max of 4ms and mean of 1.31ms.\n",
    "\n",
    "Again, this might seem good but is not possible in real time. If curious, please refer back to the stimulus timing overview I put together way back at the beginning of all of this. \n",
    "\n",
    "The average timing error on each trial is *at best* 1/2 of a screen refresh, or +/- 8ms on average, on a 60Hz screen, assuming that the touch refresh is synched to the screen refresh - though we have learned that this is not a safe assumption in most cases.\n",
    "\n",
    "Without knowing the flip times, we can't know if the fixation, stim, and response times evenly span frame buffer flips.\n",
    "\n",
    "e.g. [flip] fixation [filp] stim [flip] response [flip]\n",
    "\n",
    "vs. a situation where the fixation and stim was a few milliseconds earlier or later\n",
    "\n",
    "fixation [flip] [filp] stim [flip] [flip] response [flip]\n",
    "\n",
    "(The above is just for illustration, not a literal representation; let me know if it isn't clear, or refer to the timing doc).\n",
    "\n",
    "But I think that this maxes out at two screen refreshes in error (absolutely +/- 32ms), with an average of +/- 16ms on a 60Hz screen and assuming that the touch refresh is synched to the screen refresh. When that is not the case it may increase timing error."
   ]
  },
  {
   "cell_type": "markdown",
   "id": "457e7557-2f97-4dae-a40e-f03c8353847d",
   "metadata": {},
   "source": [
    "## Reaction time characterization - all 360 trials as in MoBILAB"
   ]
  },
  {
   "cell_type": "code",
   "execution_count": 137,
   "id": "24c43048-8c8f-48e0-bb87-3d419c2c78d7",
   "metadata": {},
   "outputs": [
    {
     "data": {
      "text/plain": [
       "<matplotlib.legend.Legend at 0x17e1b9370>"
      ]
     },
     "execution_count": 137,
     "metadata": {},
     "output_type": "execute_result"
    },
    {
     "data": {
      "image/png": "[encoded data removed]",
      "text/plain": [
       "<Figure size 576x432 with 1 Axes>"
      ]
     },
     "metadata": {
      "needs_background": "light"
     },
     "output_type": "display_data"
    }
   ],
   "source": [
    "ttype_list = [\"Neutral\",\"Congruent\",\"Incongruent\"]\n",
    "color_list = ['royalblue','darkorange','seagreen']\n",
    "plt.figure(figsize=(8,6))\n",
    "correct_flat = flat[flat.response_accuracy == 1]\n",
    "for k, ttype in enumerate(ttype_list):\n",
    "    sns.histplot(correct_flat[correct_flat.flanker_type == ttype].response_time, color=color_list[k])\n",
    "plt.legend(ttype_list)"
   ]
  },
  {
   "cell_type": "markdown",
   "id": "f3b3aace-6290-4faa-b01b-bd15ce39c75f",
   "metadata": {},
   "source": [
    "#### Looks like incongruent distributions are well separated from congruent and neutral. Just a single apparent outlier. [above]"
   ]
  },
  {
   "cell_type": "markdown",
   "id": "24f35505-2af0-47ec-a3c5-42468e38b030",
   "metadata": {},
   "source": [
    "### Quantify each contrast"
   ]
  },
  {
   "cell_type": "code",
   "execution_count": 138,
   "id": "b773f077-77e3-4991-b991-7670e8b52486",
   "metadata": {},
   "outputs": [],
   "source": [
    "import pingouin as pg"
   ]
  },
  {
   "cell_type": "code",
   "execution_count": 139,
   "id": "674849f2-e6d6-4c8f-bd3e-66a80e7819a3",
   "metadata": {},
   "outputs": [
    {
     "data": {
      "text/html": [
       "<div>\n",
       "<style scoped>\n",
       "    .dataframe tbody tr th:only-of-type {\n",
       "        vertical-align: middle;\n",
       "    }\n",
       "\n",
       "    .dataframe tbody tr th {\n",
       "        vertical-align: top;\n",
       "    }\n",
       "\n",
       "    .dataframe thead th {\n",
       "        text-align: right;\n",
       "    }\n",
       "</style>\n",
       "<table border=\"1\" class=\"dataframe\">\n",
       "  <thead>\n",
       "    <tr style=\"text-align: right;\">\n",
       "      <th></th>\n",
       "      <th>contrast</th>\n",
       "      <th>T</th>\n",
       "      <th>dof</th>\n",
       "      <th>alternative</th>\n",
       "      <th>p-val</th>\n",
       "      <th>CI95%</th>\n",
       "      <th>cohen-d</th>\n",
       "      <th>BF10</th>\n",
       "      <th>power</th>\n",
       "    </tr>\n",
       "  </thead>\n",
       "  <tbody>\n",
       "    <tr>\n",
       "      <th>T-test</th>\n",
       "      <td>I&gt;C</td>\n",
       "      <td>6.636352</td>\n",
       "      <td>161.153640</td>\n",
       "      <td>two-sided</td>\n",
       "      <td>4.655041e-10</td>\n",
       "      <td>[53.83, 99.43]</td>\n",
       "      <td>0.960016</td>\n",
       "      <td>3.033e+07</td>\n",
       "      <td>1.00000</td>\n",
       "    </tr>\n",
       "    <tr>\n",
       "      <th>T-test</th>\n",
       "      <td>I&gt;N</td>\n",
       "      <td>5.928422</td>\n",
       "      <td>176.422877</td>\n",
       "      <td>two-sided</td>\n",
       "      <td>1.572986e-08</td>\n",
       "      <td>[48.06, 96.02]</td>\n",
       "      <td>0.853050</td>\n",
       "      <td>7.843e+05</td>\n",
       "      <td>1.00000</td>\n",
       "    </tr>\n",
       "    <tr>\n",
       "      <th>T-test</th>\n",
       "      <td>C&gt;N</td>\n",
       "      <td>-0.475554</td>\n",
       "      <td>215.632227</td>\n",
       "      <td>two-sided</td>\n",
       "      <td>6.348733e-01</td>\n",
       "      <td>[-23.63, 14.45]</td>\n",
       "      <td>0.063682</td>\n",
       "      <td>0.162</td>\n",
       "      <td>0.07626</td>\n",
       "    </tr>\n",
       "  </tbody>\n",
       "</table>\n",
       "</div>"
      ],
      "text/plain": [
       "       contrast         T         dof alternative         p-val  \\\n",
       "T-test      I>C  6.636352  161.153640   two-sided  4.655041e-10   \n",
       "T-test      I>N  5.928422  176.422877   two-sided  1.572986e-08   \n",
       "T-test      C>N -0.475554  215.632227   two-sided  6.348733e-01   \n",
       "\n",
       "                  CI95%   cohen-d       BF10    power  \n",
       "T-test   [53.83, 99.43]  0.960016  3.033e+07  1.00000  \n",
       "T-test   [48.06, 96.02]  0.853050  7.843e+05  1.00000  \n",
       "T-test  [-23.63, 14.45]  0.063682      0.162  0.07626  "
      ]
     },
     "execution_count": 139,
     "metadata": {},
     "output_type": "execute_result"
    }
   ],
   "source": [
    "con = correct_flat[correct_flat.flanker_type == \"Congruent\"]\n",
    "inc = correct_flat[correct_flat.flanker_type == \"Incongruent\"]\n",
    "ntr = correct_flat[correct_flat.flanker_type == \"Neutral\"]\n",
    "ci_res = pg.ttest(inc.response_time, con.response_time)\n",
    "ci_res.insert(0,\"contrast\",\"I>C\")\n",
    "ni_res = pg.ttest(inc.response_time, ntr.response_time)\n",
    "ni_res.insert(0,\"contrast\",\"I>N\")\n",
    "cn_res = pg.ttest(con.response_time, ntr.response_time)\n",
    "cn_res.insert(0,\"contrast\",\"C>N\")\n",
    "res = pd.concat([ci_res, ni_res, cn_res])\n",
    "res"
   ]
  },
  {
   "cell_type": "markdown",
   "id": "70484ae1-c6ce-42cb-bf95-54060207fc19",
   "metadata": {
    "tags": []
   },
   "source": [
    "#### C;N < I contrasts are robust and well powered. N vs. C does not appear to be meaningful"
   ]
  },
  {
   "cell_type": "markdown",
   "id": "7e4c56c5-5f2b-4c13-8bdb-8b6ca026e19c",
   "metadata": {},
   "source": [
    "## Repeat reaction time characterization with first 120 trials - as in cognitive burst"
   ]
  },
  {
   "cell_type": "code",
   "execution_count": 140,
   "id": "1870af5b-54ca-4b21-bf3f-d1eaeb1f43ee",
   "metadata": {},
   "outputs": [],
   "source": [
    "first_block = correct_flat[correct_flat.block_number == 1]"
   ]
  },
  {
   "cell_type": "code",
   "execution_count": 141,
   "id": "381535a9-a98d-4e76-811c-dfd73af347a7",
   "metadata": {},
   "outputs": [
    {
     "data": {
      "text/plain": [
       "<matplotlib.legend.Legend at 0x17d44eeb0>"
      ]
     },
     "execution_count": 141,
     "metadata": {},
     "output_type": "execute_result"
    },
    {
     "data": {
      "image/png": "[encoded data removed]",
      "text/plain": [
       "<Figure size 576x432 with 1 Axes>"
      ]
     },
     "metadata": {
      "needs_background": "light"
     },
     "output_type": "display_data"
    }
   ],
   "source": [
    "ttype_list = [\"Neutral\",\"Congruent\",\"Incongruent\"]\n",
    "color_list = ['royalblue','darkorange','seagreen']\n",
    "plt.figure(figsize=(8,6))\n",
    "correct_flat = flat[flat.response_accuracy == 1]\n",
    "for k, ttype in enumerate(ttype_list):\n",
    "    sns.histplot(first_block[first_block.flanker_type == ttype].response_time, color=color_list[k])\n",
    "plt.legend(ttype_list)"
   ]
  },
  {
   "cell_type": "markdown",
   "id": "26c5707d-fc9e-469d-b8ad-abe974ab65fa",
   "metadata": {},
   "source": [
    "#### A little messier here, of course, using 1/3 of the data. One potential outlier in con trials. But still looks like I>C;N [above]"
   ]
  },
  {
   "cell_type": "code",
   "execution_count": 142,
   "id": "5ca97873-e62e-49d1-80f1-a4196893059f",
   "metadata": {},
   "outputs": [
    {
     "data": {
      "text/html": [
       "<div>\n",
       "<style scoped>\n",
       "    .dataframe tbody tr th:only-of-type {\n",
       "        vertical-align: middle;\n",
       "    }\n",
       "\n",
       "    .dataframe tbody tr th {\n",
       "        vertical-align: top;\n",
       "    }\n",
       "\n",
       "    .dataframe thead th {\n",
       "        text-align: right;\n",
       "    }\n",
       "</style>\n",
       "<table border=\"1\" class=\"dataframe\">\n",
       "  <thead>\n",
       "    <tr style=\"text-align: right;\">\n",
       "      <th></th>\n",
       "      <th>contrast</th>\n",
       "      <th>T</th>\n",
       "      <th>dof</th>\n",
       "      <th>alternative</th>\n",
       "      <th>p-val</th>\n",
       "      <th>CI95%</th>\n",
       "      <th>cohen-d</th>\n",
       "      <th>BF10</th>\n",
       "      <th>power</th>\n",
       "    </tr>\n",
       "  </thead>\n",
       "  <tbody>\n",
       "    <tr>\n",
       "      <th>T-test</th>\n",
       "      <td>I&gt;C</td>\n",
       "      <td>4.182923</td>\n",
       "      <td>63.927329</td>\n",
       "      <td>two-sided</td>\n",
       "      <td>0.000089</td>\n",
       "      <td>[33.46, 94.65]</td>\n",
       "      <td>1.005885</td>\n",
       "      <td>260.999</td>\n",
       "      <td>0.986021</td>\n",
       "    </tr>\n",
       "    <tr>\n",
       "      <th>T-test</th>\n",
       "      <td>I&gt;N</td>\n",
       "      <td>3.763564</td>\n",
       "      <td>63.299967</td>\n",
       "      <td>two-sided</td>\n",
       "      <td>0.000369</td>\n",
       "      <td>[27.18, 88.7]</td>\n",
       "      <td>0.914929</td>\n",
       "      <td>74.172</td>\n",
       "      <td>0.962065</td>\n",
       "    </tr>\n",
       "    <tr>\n",
       "      <th>T-test</th>\n",
       "      <td>C&gt;N</td>\n",
       "      <td>-0.438078</td>\n",
       "      <td>73.883312</td>\n",
       "      <td>two-sided</td>\n",
       "      <td>0.662608</td>\n",
       "      <td>[-33.95, 21.71]</td>\n",
       "      <td>0.100500</td>\n",
       "      <td>0.258</td>\n",
       "      <td>0.071667</td>\n",
       "    </tr>\n",
       "  </tbody>\n",
       "</table>\n",
       "</div>"
      ],
      "text/plain": [
       "       contrast         T        dof alternative     p-val            CI95%  \\\n",
       "T-test      I>C  4.182923  63.927329   two-sided  0.000089   [33.46, 94.65]   \n",
       "T-test      I>N  3.763564  63.299967   two-sided  0.000369    [27.18, 88.7]   \n",
       "T-test      C>N -0.438078  73.883312   two-sided  0.662608  [-33.95, 21.71]   \n",
       "\n",
       "         cohen-d     BF10     power  \n",
       "T-test  1.005885  260.999  0.986021  \n",
       "T-test  0.914929   74.172  0.962065  \n",
       "T-test  0.100500    0.258  0.071667  "
      ]
     },
     "execution_count": 142,
     "metadata": {},
     "output_type": "execute_result"
    }
   ],
   "source": [
    "con = first_block[first_block.flanker_type == \"Congruent\"]\n",
    "inc = first_block[first_block.flanker_type == \"Incongruent\"]\n",
    "ntr = first_block[first_block.flanker_type == \"Neutral\"]\n",
    "ci_res = pg.ttest(inc.response_time, con.response_time)\n",
    "ci_res.insert(0,\"contrast\",\"I>C\")\n",
    "ni_res = pg.ttest(inc.response_time, ntr.response_time)\n",
    "ni_res.insert(0,\"contrast\",\"I>N\")\n",
    "cn_res = pg.ttest(con.response_time, ntr.response_time)\n",
    "cn_res.insert(0,\"contrast\",\"C>N\")\n",
    "res = pd.concat([ci_res, ni_res, cn_res])\n",
    "res"
   ]
  },
  {
   "cell_type": "markdown",
   "id": "fd67e841-74f6-47fd-a377-f2fde87f4fbf",
   "metadata": {},
   "source": [
    "#### C;N < I contrasts are still significant and remain well powered. If anything, cohen's d increased. N vs. C does not appear to be meaningful\n",
    "Worth a reminder at this point that the stats and power estimates here are based on the sledgehammer I>C;N flanker effects. If these were not readily apparent it would be time to panic. But these I>C;N estimates can not speak to the task's timing accuracy w.r.t. sensitivity to individual difference metrics. "
   ]
  },
  {
   "cell_type": "markdown",
   "id": "b6482f5d-2ed7-43cf-90fb-e99501ba3248",
   "metadata": {},
   "source": [
    "# Replicate everything above with second dataset. Not spelling everything out this time."
   ]
  },
  {
   "cell_type": "markdown",
   "id": "9bfd2489-22d8-456c-b215-6ca226e6c9de",
   "metadata": {},
   "source": [
    "### Functions below are reusable so long as the flanker outputs do not change."
   ]
  },
  {
   "cell_type": "code",
   "execution_count": 143,
   "id": "44fe6afc-2628-48cc-9ba0-ea31e7a0e87b",
   "metadata": {
    "tags": []
   },
   "outputs": [],
   "source": [
    "def flatten_flanker_df(DF):\n",
    "    \"\"\"Ugly, but serviceable. First time with this output format. Can clean up later.\"\"\"\n",
    "    \n",
    "    resp = DF[DF.event_type == \"Response\"].copy()\n",
    "    fix = DF[DF.event_type == \"Fixation\"].copy()\n",
    "    stim = DF[DF.event_type == \"Stimulus\"].copy()\n",
    "\n",
    "    # Non-response events\n",
    "    non_resp_ints = ['experiment_start_timestamp',\n",
    "     'block_start_timestamp',\n",
    "     'trial_start_timestamp',\n",
    "     'event_start_timestamp',\n",
    "     'video_display_request_timestamp',\n",
    "     'trial_offset',\n",
    "     'event_offset']\n",
    "    \n",
    "    # Response events\n",
    "    response_ints = ['response_touch_timestamp',\n",
    "     'trial_offset',\n",
    "     'response_accuracy']\n",
    "\n",
    "    for n in non_resp_ints:\n",
    "        fix[n] = fix[n].map(int)\n",
    "        stim[n] = stim[n].map(int)\n",
    "\n",
    "    for r in response_ints:\n",
    "        resp[r] = resp[r].map(int)\n",
    "\n",
    "    resp.response_time = resp.response_time.map(float)\n",
    "\n",
    "    flat = fix[[\"block_number\",\n",
    "           \"trial_number\",\n",
    "           \"trial_type\",\n",
    "           'experiment_start_timestamp',\n",
    "           'block_start_timestamp',\n",
    "           'trial_start_timestamp']].copy()\n",
    "    flat[\"flanker_type\"] = resp.flanker_type.values\n",
    "    flat[\"stim_trial_start_ts\"] = stim.event_start_timestamp.values\n",
    "    flat[\"stim_display_request_ts\"] = stim.video_display_request_timestamp.values\n",
    "    flat[\"response_timestamp\"] = resp.response_touch_timestamp.values\n",
    "    flat[\"response_time\"] = resp.response_time.values\n",
    "    flat[\"response_accuracy\"] = resp.response_accuracy.values\n",
    "    flat[\"block_to_fix_time\"] = flat.trial_start_timestamp - flat.block_start_timestamp\n",
    "    flat[\"fix_to_stim_time\"] = flat.stim_trial_start_ts - flat.trial_start_timestamp\n",
    "    flat[\"stim_time_to_display_time\"] = flat.stim_display_request_ts - flat.stim_trial_start_ts\n",
    "    flat[\"stim_to_response\"] = flat.response_timestamp - flat.stim_display_request_ts # sanity check that response_time matches values directly computed from columns\n",
    "    \n",
    "    return(flat)\n"
   ]
  },
  {
   "cell_type": "code",
   "execution_count": 144,
   "id": "e25ec3bc-58a2-4ff5-afea-e5b54af9e2a2",
   "metadata": {
    "tags": []
   },
   "outputs": [],
   "source": [
    "def get_resp_next_trial_intervals(DF):\n",
    "    resp_to_next_interval = []\n",
    "    for block in [1,2,3]:\n",
    "        tmp = DF[DF.block_number == block]\n",
    "        interval = [tmp.trial_start_timestamp.values[k] - tmp.response_timestamp.values[k-1] for k in np.arange(1,len(tmp)-1)]\n",
    "        resp_to_next_interval.extend(interval)\n",
    "    resp_to_next_interval = pd.Series(resp_to_next_interval)\n",
    "    return(resp_to_next_interval)"
   ]
  },
  {
   "cell_type": "code",
   "execution_count": 145,
   "id": "5626020e-f766-4db3-a279-7538c93e8f73",
   "metadata": {
    "tags": []
   },
   "outputs": [],
   "source": [
    "def load_flanker_with_prefix(prefix):\n",
    "    DF = pd.read_csv(f\"{prefix}_test1.csv\")\n",
    "    for k in [2,3]:\n",
    "        tmp = pd.read_csv(f\"{prefix}_test{k}.csv\")\n",
    "        DF = pd.concat([DF, tmp], ignore_index=True)\n",
    "    DF[\"flanker_type\"] = DF.trial_type.map(flanker_type)\n",
    "    DF[\"correct_resp\"] = DF.trial_type.map(left_right)\n",
    "    return(DF)"
   ]
  },
  {
   "cell_type": "code",
   "execution_count": 146,
   "id": "8115946f-92e9-4d53-97f9-1ad88f12bcb5",
   "metadata": {
    "tags": []
   },
   "outputs": [],
   "source": [
    "def stim_request_to_display_values(DF):\n",
    "    s = DF.stim_time_to_display_time\n",
    "    v = series_to_ms_value_counts(s)\n",
    "    return(v)"
   ]
  },
  {
   "cell_type": "code",
   "execution_count": 147,
   "id": "89ccb06d-9566-4011-8080-217a782314c6",
   "metadata": {
    "tags": []
   },
   "outputs": [],
   "source": [
    "def series_to_ms_value_counts(series):\n",
    "    d = dict(series.value_counts())\n",
    "    v = pd.DataFrame(columns=[\"time_interval_ms\",\"count_at_interval\"])\n",
    "    v.time_interval_ms = d.keys()\n",
    "    v.count_at_interval = d.values()\n",
    "    v = v.sort_values(\"time_interval_ms\").head()\n",
    "    return(v)"
   ]
  },
  {
   "cell_type": "code",
   "execution_count": 148,
   "id": "f4f62bdf-4b27-456f-917b-5e3f4829ed17",
   "metadata": {
    "tags": []
   },
   "outputs": [],
   "source": [
    "def user_response_to_next_trial_interval(DF):\n",
    "    resp_to_next_interval = []\n",
    "    for block in [1,2,3]:\n",
    "        tmp = DF[DF.block_number == block]\n",
    "        interval = [tmp.trial_start_timestamp.values[k] - tmp.response_timestamp.values[k-1] for k in np.arange(1,len(tmp)-1)]\n",
    "        resp_to_next_interval.extend(interval)\n",
    "    resp_to_next_interval = pd.Series(resp_to_next_interval)\n",
    "    ms_counts = series_to_ms_value_counts(resp_to_next_interval)\n",
    "    return(ms_counts)"
   ]
  },
  {
   "cell_type": "markdown",
   "id": "7937b10b-d168-4095-9cd6-967e20fb8e70",
   "metadata": {},
   "source": [
    "### Load and flatten data"
   ]
  },
  {
   "cell_type": "code",
   "execution_count": 149,
   "id": "5ae18fa1-c68e-4d9a-b821-d4598a80888e",
   "metadata": {},
   "outputs": [],
   "source": [
    "prefix = \"623936435197b94689825e92\"\n",
    "df = load_flanker_with_prefix(prefix)\n",
    "flat = flatten_flanker_df(df)"
   ]
  },
  {
   "cell_type": "markdown",
   "id": "d366e1ed-3f13-44a4-af22-bc2b0ac2f008",
   "metadata": {},
   "source": [
    "## Sanity Checking"
   ]
  },
  {
   "cell_type": "markdown",
   "id": "de126821-722b-4659-9b06-c304d5677918",
   "metadata": {},
   "source": [
    "### Response Times"
   ]
  },
  {
   "cell_type": "code",
   "execution_count": 150,
   "id": "9c98a88e-7cac-490b-92aa-d36679bb6448",
   "metadata": {},
   "outputs": [
    {
     "data": {
      "text/plain": [
       "flanker_type\n",
       "Congruent      648.800000\n",
       "Incongruent    671.108333\n",
       "Neutral        620.233333\n",
       "Name: response_time, dtype: float64"
      ]
     },
     "execution_count": 150,
     "metadata": {},
     "output_type": "execute_result"
    }
   ],
   "source": [
    "flat.groupby(\"flanker_type\").response_time.mean()"
   ]
  },
  {
   "cell_type": "markdown",
   "id": "c7ffb523-6063-4df7-a7a1-f710ca65c2bc",
   "metadata": {},
   "source": [
    "### Accuracy"
   ]
  },
  {
   "cell_type": "code",
   "execution_count": 151,
   "id": "979f916d-9246-490f-807f-4206c5479211",
   "metadata": {},
   "outputs": [
    {
     "data": {
      "text/plain": [
       "flanker_type\n",
       "Congruent      98.333333\n",
       "Incongruent    97.500000\n",
       "Neutral        99.166667\n",
       "Name: response_accuracy, dtype: float64"
      ]
     },
     "execution_count": 151,
     "metadata": {},
     "output_type": "execute_result"
    }
   ],
   "source": [
    "flat.groupby(\"flanker_type\").response_accuracy.mean() * 100"
   ]
  },
  {
   "cell_type": "markdown",
   "id": "c478f17f-5ac0-4c60-bc61-4a840b50ebaa",
   "metadata": {},
   "source": [
    "### Only Correct Trials"
   ]
  },
  {
   "cell_type": "code",
   "execution_count": 152,
   "id": "74ac4ab2-a922-4403-9989-0c969bc987f1",
   "metadata": {},
   "outputs": [],
   "source": [
    "correct = flat[flat.response_accuracy ==1].copy() # copy, not view"
   ]
  },
  {
   "cell_type": "code",
   "execution_count": 153,
   "id": "789ccf65-ce9f-40e3-aa16-0fa7f5826c99",
   "metadata": {},
   "outputs": [
    {
     "data": {
      "text/plain": [
       "flanker_type\n",
       "Congruent      641.754237\n",
       "Incongruent    664.606838\n",
       "Neutral        621.151261\n",
       "Name: response_time, dtype: float64"
      ]
     },
     "execution_count": 153,
     "metadata": {},
     "output_type": "execute_result"
    }
   ],
   "source": [
    "correct.groupby(\"flanker_type\").response_time.mean()"
   ]
  },
  {
   "cell_type": "markdown",
   "id": "75fa11c6-0109-4a32-9dce-28d8f33d9ab2",
   "metadata": {
    "tags": []
   },
   "source": [
    "### General behavioral pattern above looks nominally correct, but not obviously distinct."
   ]
  },
  {
   "cell_type": "markdown",
   "id": "f640aef8-7e90-4932-9306-2e852758f384",
   "metadata": {},
   "source": [
    "## Timing performance"
   ]
  },
  {
   "cell_type": "code",
   "execution_count": 154,
   "id": "cd6c3274-4cb7-4038-9eb8-d1c861cad657",
   "metadata": {},
   "outputs": [
    {
     "data": {
      "text/html": [
       "<div>\n",
       "<style scoped>\n",
       "    .dataframe tbody tr th:only-of-type {\n",
       "        vertical-align: middle;\n",
       "    }\n",
       "\n",
       "    .dataframe tbody tr th {\n",
       "        vertical-align: top;\n",
       "    }\n",
       "\n",
       "    .dataframe thead th {\n",
       "        text-align: right;\n",
       "    }\n",
       "</style>\n",
       "<table border=\"1\" class=\"dataframe\">\n",
       "  <thead>\n",
       "    <tr style=\"text-align: right;\">\n",
       "      <th></th>\n",
       "      <th>time_interval_ms</th>\n",
       "      <th>count_at_interval</th>\n",
       "    </tr>\n",
       "  </thead>\n",
       "  <tbody>\n",
       "    <tr>\n",
       "      <th>0</th>\n",
       "      <td>0</td>\n",
       "      <td>293</td>\n",
       "    </tr>\n",
       "    <tr>\n",
       "      <th>1</th>\n",
       "      <td>1</td>\n",
       "      <td>67</td>\n",
       "    </tr>\n",
       "  </tbody>\n",
       "</table>\n",
       "</div>"
      ],
      "text/plain": [
       "   time_interval_ms  count_at_interval\n",
       "0                 0                293\n",
       "1                 1                 67"
      ]
     },
     "execution_count": 154,
     "metadata": {},
     "output_type": "execute_result"
    }
   ],
   "source": [
    "stim_request_to_display_values(flat) "
   ]
  },
  {
   "cell_type": "code",
   "execution_count": 155,
   "id": "b19c3a3b-85dc-4411-a335-5229213e4bde",
   "metadata": {},
   "outputs": [
    {
     "data": {
      "text/html": [
       "<div>\n",
       "<style scoped>\n",
       "    .dataframe tbody tr th:only-of-type {\n",
       "        vertical-align: middle;\n",
       "    }\n",
       "\n",
       "    .dataframe tbody tr th {\n",
       "        vertical-align: top;\n",
       "    }\n",
       "\n",
       "    .dataframe thead th {\n",
       "        text-align: right;\n",
       "    }\n",
       "</style>\n",
       "<table border=\"1\" class=\"dataframe\">\n",
       "  <thead>\n",
       "    <tr style=\"text-align: right;\">\n",
       "      <th></th>\n",
       "      <th>time_interval_ms</th>\n",
       "      <th>count_at_interval</th>\n",
       "    </tr>\n",
       "  </thead>\n",
       "  <tbody>\n",
       "    <tr>\n",
       "      <th>2</th>\n",
       "      <td>0</td>\n",
       "      <td>28</td>\n",
       "    </tr>\n",
       "    <tr>\n",
       "      <th>0</th>\n",
       "      <td>1</td>\n",
       "      <td>200</td>\n",
       "    </tr>\n",
       "    <tr>\n",
       "      <th>1</th>\n",
       "      <td>2</td>\n",
       "      <td>107</td>\n",
       "    </tr>\n",
       "    <tr>\n",
       "      <th>3</th>\n",
       "      <td>3</td>\n",
       "      <td>11</td>\n",
       "    </tr>\n",
       "    <tr>\n",
       "      <th>4</th>\n",
       "      <td>4</td>\n",
       "      <td>5</td>\n",
       "    </tr>\n",
       "  </tbody>\n",
       "</table>\n",
       "</div>"
      ],
      "text/plain": [
       "   time_interval_ms  count_at_interval\n",
       "2                 0                 28\n",
       "0                 1                200\n",
       "1                 2                107\n",
       "3                 3                 11\n",
       "4                 4                  5"
      ]
     },
     "execution_count": 155,
     "metadata": {},
     "output_type": "execute_result"
    }
   ],
   "source": [
    "user_response_to_next_trial_interval(flat)"
   ]
  },
  {
   "cell_type": "markdown",
   "id": "55ddb4f6-89e5-4497-a204-2611c224351c",
   "metadata": {},
   "source": [
    "### The inter-event intervals reported are very similar to the inital dataset and highlight realtime mismatches. Min = 0 (~19%), max = 4ms. "
   ]
  },
  {
   "cell_type": "markdown",
   "id": "af3aa3ba-18f7-4420-b429-eb5b440a00ef",
   "metadata": {},
   "source": [
    "## RT Characterization, all 360 trials"
   ]
  },
  {
   "cell_type": "code",
   "execution_count": 157,
   "id": "e35e1a33-fa24-4832-93be-a6ab5d11f426",
   "metadata": {
    "tags": []
   },
   "outputs": [],
   "source": [
    "def flanker_rt_hist(DF):\n",
    "    ttype_list = [\"Neutral\",\"Congruent\",\"Incongruent\"]\n",
    "    color_list = ['royalblue','darkorange','seagreen']\n",
    "    fig, ax = plt.subplots(1,1,figsize=(8,6))\n",
    "    for k, ttype in enumerate(ttype_list):\n",
    "        sns.histplot(DF[DF.flanker_type == ttype].response_time, color=color_list[k], ax=ax)\n",
    "    ax.legend(ttype_list)\n",
    "    ax.set_title(\"Flanker RT Distributions\", fontsize=18)"
   ]
  },
  {
   "cell_type": "code",
   "execution_count": 158,
   "id": "48ee2dbf-31e6-4bf9-a70d-aec8843ec881",
   "metadata": {},
   "outputs": [
    {
     "data": {
      "image/png": "[encoded data removed]",
      "text/plain": [
       "<Figure size 576x432 with 1 Axes>"
      ]
     },
     "metadata": {
      "needs_background": "light"
     },
     "output_type": "display_data"
    }
   ],
   "source": [
    "flanker_rt_hist(correct)"
   ]
  },
  {
   "cell_type": "markdown",
   "id": "013e690b-6a5d-4b99-89eb-f4a09dd6190d",
   "metadata": {},
   "source": [
    "### Trial type separation not as clear as the first dataset [above]"
   ]
  },
  {
   "cell_type": "markdown",
   "id": "3273d7c9-059e-4da3-81af-3bcf63c3053e",
   "metadata": {},
   "source": [
    "### Quantify Contrasts"
   ]
  },
  {
   "cell_type": "code",
   "execution_count": 159,
   "id": "a5022826-f39c-4470-b476-55f0c1ce348d",
   "metadata": {
    "tags": []
   },
   "outputs": [],
   "source": [
    "def flanker_ttests(DF):\n",
    "    ## Not editing subsets, so just using a view\n",
    "    con = DF[DF.flanker_type == \"Congruent\"]\n",
    "    inc = DF[DF.flanker_type == \"Incongruent\"]\n",
    "    ntr = DF[DF.flanker_type == \"Neutral\"]\n",
    "    ci_res = pg.ttest(inc.response_time, con.response_time)\n",
    "    ci_res.insert(0,\"contrast\",\"I>C\")\n",
    "    ni_res = pg.ttest(inc.response_time, ntr.response_time)\n",
    "    ni_res.insert(0,\"contrast\",\"I>N\")\n",
    "    cn_res = pg.ttest(con.response_time, ntr.response_time)\n",
    "    cn_res.insert(0,\"contrast\",\"C>N\")\n",
    "    res = pd.concat([ci_res, ni_res, cn_res])\n",
    "    return(res)"
   ]
  },
  {
   "cell_type": "code",
   "execution_count": 160,
   "id": "d633c1b9-5762-470c-9325-68eec8fb9591",
   "metadata": {},
   "outputs": [
    {
     "data": {
      "text/html": [
       "<div>\n",
       "<style scoped>\n",
       "    .dataframe tbody tr th:only-of-type {\n",
       "        vertical-align: middle;\n",
       "    }\n",
       "\n",
       "    .dataframe tbody tr th {\n",
       "        vertical-align: top;\n",
       "    }\n",
       "\n",
       "    .dataframe thead th {\n",
       "        text-align: right;\n",
       "    }\n",
       "</style>\n",
       "<table border=\"1\" class=\"dataframe\">\n",
       "  <thead>\n",
       "    <tr style=\"text-align: right;\">\n",
       "      <th></th>\n",
       "      <th>contrast</th>\n",
       "      <th>T</th>\n",
       "      <th>dof</th>\n",
       "      <th>alternative</th>\n",
       "      <th>p-val</th>\n",
       "      <th>CI95%</th>\n",
       "      <th>cohen-d</th>\n",
       "      <th>BF10</th>\n",
       "      <th>power</th>\n",
       "    </tr>\n",
       "  </thead>\n",
       "  <tbody>\n",
       "    <tr>\n",
       "      <th>T-test</th>\n",
       "      <td>I&gt;C</td>\n",
       "      <td>0.863357</td>\n",
       "      <td>216.286420</td>\n",
       "      <td>two-sided</td>\n",
       "      <td>0.388898</td>\n",
       "      <td>[-29.32, 75.02]</td>\n",
       "      <td>0.112502</td>\n",
       "      <td>0.203</td>\n",
       "      <td>0.137813</td>\n",
       "    </tr>\n",
       "    <tr>\n",
       "      <th>T-test</th>\n",
       "      <td>I&gt;N</td>\n",
       "      <td>1.932346</td>\n",
       "      <td>233.998070</td>\n",
       "      <td>two-sided</td>\n",
       "      <td>0.054524</td>\n",
       "      <td>[-0.85, 87.76]</td>\n",
       "      <td>0.251549</td>\n",
       "      <td>0.824</td>\n",
       "      <td>0.485779</td>\n",
       "    </tr>\n",
       "    <tr>\n",
       "      <th>T-test</th>\n",
       "      <td>C&gt;N</td>\n",
       "      <td>0.776778</td>\n",
       "      <td>217.768116</td>\n",
       "      <td>two-sided</td>\n",
       "      <td>0.438133</td>\n",
       "      <td>[-31.67, 72.88]</td>\n",
       "      <td>0.101032</td>\n",
       "      <td>0.189</td>\n",
       "      <td>0.121042</td>\n",
       "    </tr>\n",
       "  </tbody>\n",
       "</table>\n",
       "</div>"
      ],
      "text/plain": [
       "       contrast         T         dof alternative     p-val            CI95%  \\\n",
       "T-test      I>C  0.863357  216.286420   two-sided  0.388898  [-29.32, 75.02]   \n",
       "T-test      I>N  1.932346  233.998070   two-sided  0.054524   [-0.85, 87.76]   \n",
       "T-test      C>N  0.776778  217.768116   two-sided  0.438133  [-31.67, 72.88]   \n",
       "\n",
       "         cohen-d   BF10     power  \n",
       "T-test  0.112502  0.203  0.137813  \n",
       "T-test  0.251549  0.824  0.485779  \n",
       "T-test  0.101032  0.189  0.121042  "
      ]
     },
     "execution_count": 160,
     "metadata": {},
     "output_type": "execute_result"
    }
   ],
   "source": [
    "flanker_ttests(correct)"
   ]
  },
  {
   "cell_type": "markdown",
   "id": "eeb501e1-64e8-4f9f-8602-403be01f334a",
   "metadata": {},
   "source": [
    "### **There is not a reliable trial type difference in this dataset**. Typical sledgehammer effects are not detected."
   ]
  },
  {
   "cell_type": "markdown",
   "id": "19ef23e6-70f0-4730-ae1d-c1f96a6439ff",
   "metadata": {},
   "source": [
    "## Reduced to 120 Trial as in Cog Burst"
   ]
  },
  {
   "cell_type": "code",
   "execution_count": 161,
   "id": "842a9cbc-accd-481a-a43a-11d77555c9e3",
   "metadata": {},
   "outputs": [
    {
     "data": {
      "image/png": "[encoded data removed]",
      "text/plain": [
       "<Figure size 576x432 with 1 Axes>"
      ]
     },
     "metadata": {
      "needs_background": "light"
     },
     "output_type": "display_data"
    }
   ],
   "source": [
    "first_block = correct[correct.block_number == 1].copy()\n",
    "flanker_rt_hist(first_block)"
   ]
  },
  {
   "cell_type": "markdown",
   "id": "1165f546-d65d-4d21-94cc-c6cd4acbdd72",
   "metadata": {},
   "source": [
    "#### There are several apparent outliers in con and inc - not neutral. But the modes of the distributions look very well aligned (not different)"
   ]
  },
  {
   "cell_type": "markdown",
   "id": "35e9812e-781e-4bd7-8f68-3343df0f1bdc",
   "metadata": {},
   "source": [
    "### Quantify contrasts"
   ]
  },
  {
   "cell_type": "code",
   "execution_count": 162,
   "id": "d7e41a7a-7c58-4f74-8f66-e6928001cc43",
   "metadata": {},
   "outputs": [
    {
     "data": {
      "text/html": [
       "<div>\n",
       "<style scoped>\n",
       "    .dataframe tbody tr th:only-of-type {\n",
       "        vertical-align: middle;\n",
       "    }\n",
       "\n",
       "    .dataframe tbody tr th {\n",
       "        vertical-align: top;\n",
       "    }\n",
       "\n",
       "    .dataframe thead th {\n",
       "        text-align: right;\n",
       "    }\n",
       "</style>\n",
       "<table border=\"1\" class=\"dataframe\">\n",
       "  <thead>\n",
       "    <tr style=\"text-align: right;\">\n",
       "      <th></th>\n",
       "      <th>contrast</th>\n",
       "      <th>T</th>\n",
       "      <th>dof</th>\n",
       "      <th>alternative</th>\n",
       "      <th>p-val</th>\n",
       "      <th>CI95%</th>\n",
       "      <th>cohen-d</th>\n",
       "      <th>BF10</th>\n",
       "      <th>power</th>\n",
       "    </tr>\n",
       "  </thead>\n",
       "  <tbody>\n",
       "    <tr>\n",
       "      <th>T-test</th>\n",
       "      <td>I&gt;C</td>\n",
       "      <td>1.115591</td>\n",
       "      <td>74.000000</td>\n",
       "      <td>two-sided</td>\n",
       "      <td>0.268207</td>\n",
       "      <td>[-40.48, 143.48]</td>\n",
       "      <td>0.255934</td>\n",
       "      <td>0.406</td>\n",
       "      <td>0.196324</td>\n",
       "    </tr>\n",
       "    <tr>\n",
       "      <th>T-test</th>\n",
       "      <td>I&gt;N</td>\n",
       "      <td>3.415113</td>\n",
       "      <td>52.058105</td>\n",
       "      <td>two-sided</td>\n",
       "      <td>0.001243</td>\n",
       "      <td>[49.2, 189.38]</td>\n",
       "      <td>0.786530</td>\n",
       "      <td>29.729</td>\n",
       "      <td>0.928936</td>\n",
       "    </tr>\n",
       "    <tr>\n",
       "      <th>T-test</th>\n",
       "      <td>C&gt;N</td>\n",
       "      <td>1.854540</td>\n",
       "      <td>50.603610</td>\n",
       "      <td>two-sided</td>\n",
       "      <td>0.069493</td>\n",
       "      <td>[-5.61, 141.18]</td>\n",
       "      <td>0.427464</td>\n",
       "      <td>1.027</td>\n",
       "      <td>0.461502</td>\n",
       "    </tr>\n",
       "  </tbody>\n",
       "</table>\n",
       "</div>"
      ],
      "text/plain": [
       "       contrast         T        dof alternative     p-val             CI95%  \\\n",
       "T-test      I>C  1.115591  74.000000   two-sided  0.268207  [-40.48, 143.48]   \n",
       "T-test      I>N  3.415113  52.058105   two-sided  0.001243    [49.2, 189.38]   \n",
       "T-test      C>N  1.854540  50.603610   two-sided  0.069493   [-5.61, 141.18]   \n",
       "\n",
       "         cohen-d    BF10     power  \n",
       "T-test  0.255934   0.406  0.196324  \n",
       "T-test  0.786530  29.729  0.928936  \n",
       "T-test  0.427464   1.027  0.461502  "
      ]
     },
     "execution_count": 162,
     "metadata": {},
     "output_type": "execute_result"
    }
   ],
   "source": [
    "flanker_ttests(first_block)"
   ]
  },
  {
   "cell_type": "markdown",
   "id": "79df0c34-b962-467e-8b8d-ab3b2dc1741c",
   "metadata": {},
   "source": [
    "#### The neutral trials do not have any outliers, and are significantly faster than either congruent or incongruent trials. But the base (typically very large) effect between con and inc is not reliable."
   ]
  },
  {
   "cell_type": "markdown",
   "id": "a9a2bf38-afaf-4ecd-b79d-06a879793433",
   "metadata": {},
   "source": [
    "## If we have noisy data, a first pass is often to remove outliers"
   ]
  },
  {
   "cell_type": "code",
   "execution_count": 176,
   "id": "541230d5-c838-4914-8171-8fa3ac006159",
   "metadata": {
    "tags": []
   },
   "outputs": [],
   "source": [
    "zscore = lambda x: (x - x.mean()) / x.std()\n",
    "def return_mask_by_sd(vec, num_sd=3, two_sided = False):\n",
    "    zvals = zscore(vec)\n",
    "    mask = np.zeros(zvals.shape)\n",
    "    mask[np.where(zvals >= num_sd)] = 1\n",
    "    if two_sided is True:\n",
    "        mask[np.where(zvals <= -1*num_sd)] = 1\n",
    "    return(mask)    "
   ]
  },
  {
   "cell_type": "code",
   "execution_count": 164,
   "id": "cf7eed62-e882-4431-87b0-299aca3eebca",
   "metadata": {},
   "outputs": [],
   "source": [
    "correct[\"outlier\"] = return_mask_by_sd(correct.response_time, num_sd = 2.5)"
   ]
  },
  {
   "cell_type": "markdown",
   "id": "11a7fb21-dd39-40f2-bb87-67e2e389225e",
   "metadata": {},
   "source": [
    "### In full n=360 dataset"
   ]
  },
  {
   "cell_type": "code",
   "execution_count": 165,
   "id": "d0d752fd-a6dd-4c2a-8e99-6457d03f621e",
   "metadata": {},
   "outputs": [
    {
     "data": {
      "image/png": "[encoded data removed]",
      "text/plain": [
       "<Figure size 576x432 with 1 Axes>"
      ]
     },
     "metadata": {
      "needs_background": "light"
     },
     "output_type": "display_data"
    }
   ],
   "source": [
    "flanker_rt_hist(correct[correct.outlier == 0])"
   ]
  },
  {
   "cell_type": "markdown",
   "id": "90da08af-0f7b-4c29-b4d9-f3c157b902f7",
   "metadata": {},
   "source": [
    "#### Might be better"
   ]
  },
  {
   "cell_type": "code",
   "execution_count": 166,
   "id": "096413a8-3d36-43dd-9452-5f9baff9dd3f",
   "metadata": {},
   "outputs": [
    {
     "data": {
      "text/html": [
       "<div>\n",
       "<style scoped>\n",
       "    .dataframe tbody tr th:only-of-type {\n",
       "        vertical-align: middle;\n",
       "    }\n",
       "\n",
       "    .dataframe tbody tr th {\n",
       "        vertical-align: top;\n",
       "    }\n",
       "\n",
       "    .dataframe thead th {\n",
       "        text-align: right;\n",
       "    }\n",
       "</style>\n",
       "<table border=\"1\" class=\"dataframe\">\n",
       "  <thead>\n",
       "    <tr style=\"text-align: right;\">\n",
       "      <th></th>\n",
       "      <th>contrast</th>\n",
       "      <th>T</th>\n",
       "      <th>dof</th>\n",
       "      <th>alternative</th>\n",
       "      <th>p-val</th>\n",
       "      <th>CI95%</th>\n",
       "      <th>cohen-d</th>\n",
       "      <th>BF10</th>\n",
       "      <th>power</th>\n",
       "    </tr>\n",
       "  </thead>\n",
       "  <tbody>\n",
       "    <tr>\n",
       "      <th>T-test</th>\n",
       "      <td>I&gt;C</td>\n",
       "      <td>2.255657</td>\n",
       "      <td>224.024964</td>\n",
       "      <td>two-sided</td>\n",
       "      <td>0.025058</td>\n",
       "      <td>[4.67, 69.17]</td>\n",
       "      <td>0.299505</td>\n",
       "      <td>1.569</td>\n",
       "      <td>0.612813</td>\n",
       "    </tr>\n",
       "    <tr>\n",
       "      <th>T-test</th>\n",
       "      <td>I&gt;N</td>\n",
       "      <td>3.010778</td>\n",
       "      <td>220.659758</td>\n",
       "      <td>two-sided</td>\n",
       "      <td>0.002909</td>\n",
       "      <td>[16.38, 78.45]</td>\n",
       "      <td>0.399288</td>\n",
       "      <td>9.81</td>\n",
       "      <td>0.851213</td>\n",
       "    </tr>\n",
       "    <tr>\n",
       "      <th>T-test</th>\n",
       "      <td>C&gt;N</td>\n",
       "      <td>0.689677</td>\n",
       "      <td>225.161302</td>\n",
       "      <td>two-sided</td>\n",
       "      <td>0.491108</td>\n",
       "      <td>[-19.49, 40.48]</td>\n",
       "      <td>0.091184</td>\n",
       "      <td>0.181</td>\n",
       "      <td>0.105578</td>\n",
       "    </tr>\n",
       "  </tbody>\n",
       "</table>\n",
       "</div>"
      ],
      "text/plain": [
       "       contrast         T         dof alternative     p-val            CI95%  \\\n",
       "T-test      I>C  2.255657  224.024964   two-sided  0.025058    [4.67, 69.17]   \n",
       "T-test      I>N  3.010778  220.659758   two-sided  0.002909   [16.38, 78.45]   \n",
       "T-test      C>N  0.689677  225.161302   two-sided  0.491108  [-19.49, 40.48]   \n",
       "\n",
       "         cohen-d   BF10     power  \n",
       "T-test  0.299505  1.569  0.612813  \n",
       "T-test  0.399288   9.81  0.851213  \n",
       "T-test  0.091184  0.181  0.105578  "
      ]
     },
     "execution_count": 166,
     "metadata": {},
     "output_type": "execute_result"
    }
   ],
   "source": [
    "flanker_ttests(correct[correct.outlier == 0])"
   ]
  },
  {
   "cell_type": "markdown",
   "id": "a3599f0f-214b-4188-ab0d-69d954e9c2e0",
   "metadata": {},
   "source": [
    "#### With outliers removed, the full 360 dataset results are generally consistent with initial dataset, I>C;N, C==N, though much weaker effect sizes"
   ]
  },
  {
   "cell_type": "markdown",
   "id": "240e16e2-ea5e-404a-b4ec-625f757f7916",
   "metadata": {},
   "source": [
    "## With n=120 first block"
   ]
  },
  {
   "cell_type": "code",
   "execution_count": 167,
   "id": "80763adf-ea0f-42cb-a064-dd93b3777084",
   "metadata": {},
   "outputs": [],
   "source": [
    "first_block[\"outlier\"] = return_mask_by_sd(first_block.response_time, num_sd = 2.5)"
   ]
  },
  {
   "cell_type": "code",
   "execution_count": 168,
   "id": "e4c7b64f-9f00-473a-b7a4-163701761d01",
   "metadata": {},
   "outputs": [
    {
     "data": {
      "image/png": "[encoded data removed]",
      "text/plain": [
       "<Figure size 576x432 with 1 Axes>"
      ]
     },
     "metadata": {
      "needs_background": "light"
     },
     "output_type": "display_data"
    }
   ],
   "source": [
    "flanker_rt_hist(first_block[first_block.outlier == 0])"
   ]
  },
  {
   "cell_type": "code",
   "execution_count": 169,
   "id": "0a0d8c0d-fd3f-48c3-84ba-feff7cfdef83",
   "metadata": {},
   "outputs": [
    {
     "data": {
      "text/html": [
       "<div>\n",
       "<style scoped>\n",
       "    .dataframe tbody tr th:only-of-type {\n",
       "        vertical-align: middle;\n",
       "    }\n",
       "\n",
       "    .dataframe tbody tr th {\n",
       "        vertical-align: top;\n",
       "    }\n",
       "\n",
       "    .dataframe thead th {\n",
       "        text-align: right;\n",
       "    }\n",
       "</style>\n",
       "<table border=\"1\" class=\"dataframe\">\n",
       "  <thead>\n",
       "    <tr style=\"text-align: right;\">\n",
       "      <th></th>\n",
       "      <th>contrast</th>\n",
       "      <th>T</th>\n",
       "      <th>dof</th>\n",
       "      <th>alternative</th>\n",
       "      <th>p-val</th>\n",
       "      <th>CI95%</th>\n",
       "      <th>cohen-d</th>\n",
       "      <th>BF10</th>\n",
       "      <th>power</th>\n",
       "    </tr>\n",
       "  </thead>\n",
       "  <tbody>\n",
       "    <tr>\n",
       "      <th>T-test</th>\n",
       "      <td>I&gt;C</td>\n",
       "      <td>1.732356</td>\n",
       "      <td>59.263086</td>\n",
       "      <td>two-sided</td>\n",
       "      <td>0.088412</td>\n",
       "      <td>[-8.59, 119.45]</td>\n",
       "      <td>0.413458</td>\n",
       "      <td>0.875</td>\n",
       "      <td>0.404333</td>\n",
       "    </tr>\n",
       "    <tr>\n",
       "      <th>T-test</th>\n",
       "      <td>I&gt;N</td>\n",
       "      <td>2.744762</td>\n",
       "      <td>53.196942</td>\n",
       "      <td>two-sided</td>\n",
       "      <td>0.008240</td>\n",
       "      <td>[22.47, 144.43]</td>\n",
       "      <td>0.656750</td>\n",
       "      <td>5.65</td>\n",
       "      <td>0.799549</td>\n",
       "    </tr>\n",
       "    <tr>\n",
       "      <th>T-test</th>\n",
       "      <td>C&gt;N</td>\n",
       "      <td>1.223858</td>\n",
       "      <td>69.848567</td>\n",
       "      <td>two-sided</td>\n",
       "      <td>0.225118</td>\n",
       "      <td>[-17.65, 73.7]</td>\n",
       "      <td>0.283242</td>\n",
       "      <td>0.453</td>\n",
       "      <td>0.229479</td>\n",
       "    </tr>\n",
       "  </tbody>\n",
       "</table>\n",
       "</div>"
      ],
      "text/plain": [
       "       contrast         T        dof alternative     p-val            CI95%  \\\n",
       "T-test      I>C  1.732356  59.263086   two-sided  0.088412  [-8.59, 119.45]   \n",
       "T-test      I>N  2.744762  53.196942   two-sided  0.008240  [22.47, 144.43]   \n",
       "T-test      C>N  1.223858  69.848567   two-sided  0.225118   [-17.65, 73.7]   \n",
       "\n",
       "         cohen-d   BF10     power  \n",
       "T-test  0.413458  0.875  0.404333  \n",
       "T-test  0.656750   5.65  0.799549  \n",
       "T-test  0.283242  0.453  0.229479  "
      ]
     },
     "execution_count": 169,
     "metadata": {},
     "output_type": "execute_result"
    }
   ],
   "source": [
    "flanker_ttests(first_block[first_block.outlier == 0])"
   ]
  },
  {
   "cell_type": "markdown",
   "id": "8454f9f2-4b30-4150-8aae-85056a91ea42",
   "metadata": {},
   "source": [
    "### After thresholding, I>C approaches a marginal effect in cog burst sample size; C==N. So, better, but still not good."
   ]
  },
  {
   "cell_type": "markdown",
   "id": "193d80a0-5405-4a6d-92ff-fd963253061f",
   "metadata": {},
   "source": [
    "#### Try an SD=2 threshold?"
   ]
  },
  {
   "cell_type": "code",
   "execution_count": 170,
   "id": "177d54d3-5b19-419e-8191-c417923592d4",
   "metadata": {},
   "outputs": [],
   "source": [
    "first_block[\"outlier\"] = return_mask_by_sd(first_block.response_time, num_sd = 2)"
   ]
  },
  {
   "cell_type": "code",
   "execution_count": 171,
   "id": "9afb3c1a-e453-44b2-b9af-e2e52714d70b",
   "metadata": {},
   "outputs": [
    {
     "data": {
      "image/png": "[encoded data removed]",
      "text/plain": [
       "<Figure size 576x432 with 1 Axes>"
      ]
     },
     "metadata": {
      "needs_background": "light"
     },
     "output_type": "display_data"
    }
   ],
   "source": [
    "flanker_rt_hist(first_block[first_block.outlier == 0])"
   ]
  },
  {
   "cell_type": "code",
   "execution_count": 172,
   "id": "18bc1fdc-3e06-4dc7-bea1-9d54c391ddc8",
   "metadata": {},
   "outputs": [
    {
     "data": {
      "text/html": [
       "<div>\n",
       "<style scoped>\n",
       "    .dataframe tbody tr th:only-of-type {\n",
       "        vertical-align: middle;\n",
       "    }\n",
       "\n",
       "    .dataframe tbody tr th {\n",
       "        vertical-align: top;\n",
       "    }\n",
       "\n",
       "    .dataframe thead th {\n",
       "        text-align: right;\n",
       "    }\n",
       "</style>\n",
       "<table border=\"1\" class=\"dataframe\">\n",
       "  <thead>\n",
       "    <tr style=\"text-align: right;\">\n",
       "      <th></th>\n",
       "      <th>contrast</th>\n",
       "      <th>T</th>\n",
       "      <th>dof</th>\n",
       "      <th>alternative</th>\n",
       "      <th>p-val</th>\n",
       "      <th>CI95%</th>\n",
       "      <th>cohen-d</th>\n",
       "      <th>BF10</th>\n",
       "      <th>power</th>\n",
       "    </tr>\n",
       "  </thead>\n",
       "  <tbody>\n",
       "    <tr>\n",
       "      <th>T-test</th>\n",
       "      <td>I&gt;C</td>\n",
       "      <td>1.136071</td>\n",
       "      <td>61.545155</td>\n",
       "      <td>two-sided</td>\n",
       "      <td>0.260331</td>\n",
       "      <td>[-24.94, 90.57]</td>\n",
       "      <td>0.276360</td>\n",
       "      <td>0.429</td>\n",
       "      <td>0.204373</td>\n",
       "    </tr>\n",
       "    <tr>\n",
       "      <th>T-test</th>\n",
       "      <td>I&gt;N</td>\n",
       "      <td>2.243960</td>\n",
       "      <td>55.751751</td>\n",
       "      <td>two-sided</td>\n",
       "      <td>0.028824</td>\n",
       "      <td>[6.52, 115.16]</td>\n",
       "      <td>0.545440</td>\n",
       "      <td>2.034</td>\n",
       "      <td>0.628540</td>\n",
       "    </tr>\n",
       "    <tr>\n",
       "      <th>T-test</th>\n",
       "      <td>C&gt;N</td>\n",
       "      <td>1.223858</td>\n",
       "      <td>69.848567</td>\n",
       "      <td>two-sided</td>\n",
       "      <td>0.225118</td>\n",
       "      <td>[-17.65, 73.7]</td>\n",
       "      <td>0.283242</td>\n",
       "      <td>0.453</td>\n",
       "      <td>0.229479</td>\n",
       "    </tr>\n",
       "  </tbody>\n",
       "</table>\n",
       "</div>"
      ],
      "text/plain": [
       "       contrast         T        dof alternative     p-val            CI95%  \\\n",
       "T-test      I>C  1.136071  61.545155   two-sided  0.260331  [-24.94, 90.57]   \n",
       "T-test      I>N  2.243960  55.751751   two-sided  0.028824   [6.52, 115.16]   \n",
       "T-test      C>N  1.223858  69.848567   two-sided  0.225118   [-17.65, 73.7]   \n",
       "\n",
       "         cohen-d   BF10     power  \n",
       "T-test  0.276360  0.429  0.204373  \n",
       "T-test  0.545440  2.034  0.628540  \n",
       "T-test  0.283242  0.453  0.229479  "
      ]
     },
     "execution_count": 172,
     "metadata": {},
     "output_type": "execute_result"
    }
   ],
   "source": [
    "flanker_ttests(first_block[first_block.outlier == 0])"
   ]
  },
  {
   "cell_type": "markdown",
   "id": "7bd36f97-f46a-42f7-81c2-fc0e32156c99",
   "metadata": {},
   "source": [
    "### Not helpful. Removing outliers continues to erode the trial type effects ; I>N still remains reliable"
   ]
  },
  {
   "cell_type": "code",
   "execution_count": 173,
   "id": "dd563ba7-b2fd-490e-85c8-8447b35828d7",
   "metadata": {},
   "outputs": [
    {
     "data": {
      "image/png": "[encoded data removed]",
      "text/plain": [
       "<Figure size 576x432 with 1 Axes>"
      ]
     },
     "metadata": {
      "needs_background": "light"
     },
     "output_type": "display_data"
    }
   ],
   "source": [
    "first_block[\"outlier\"] = return_mask_by_sd(first_block.response_time, num_sd = 1.5)\n",
    "flanker_rt_hist(first_block[first_block.outlier == 0])"
   ]
  },
  {
   "cell_type": "code",
   "execution_count": 174,
   "id": "ba75670e-1a03-422c-819c-80e11ba80c4a",
   "metadata": {},
   "outputs": [
    {
     "data": {
      "text/html": [
       "<div>\n",
       "<style scoped>\n",
       "    .dataframe tbody tr th:only-of-type {\n",
       "        vertical-align: middle;\n",
       "    }\n",
       "\n",
       "    .dataframe tbody tr th {\n",
       "        vertical-align: top;\n",
       "    }\n",
       "\n",
       "    .dataframe thead th {\n",
       "        text-align: right;\n",
       "    }\n",
       "</style>\n",
       "<table border=\"1\" class=\"dataframe\">\n",
       "  <thead>\n",
       "    <tr style=\"text-align: right;\">\n",
       "      <th></th>\n",
       "      <th>contrast</th>\n",
       "      <th>T</th>\n",
       "      <th>dof</th>\n",
       "      <th>alternative</th>\n",
       "      <th>p-val</th>\n",
       "      <th>CI95%</th>\n",
       "      <th>cohen-d</th>\n",
       "      <th>BF10</th>\n",
       "      <th>power</th>\n",
       "    </tr>\n",
       "  </thead>\n",
       "  <tbody>\n",
       "    <tr>\n",
       "      <th>T-test</th>\n",
       "      <td>I&gt;C</td>\n",
       "      <td>0.496602</td>\n",
       "      <td>63.135433</td>\n",
       "      <td>two-sided</td>\n",
       "      <td>0.621195</td>\n",
       "      <td>[-39.41, 65.47]</td>\n",
       "      <td>0.121862</td>\n",
       "      <td>0.279</td>\n",
       "      <td>0.077934</td>\n",
       "    </tr>\n",
       "    <tr>\n",
       "      <th>T-test</th>\n",
       "      <td>I&gt;N</td>\n",
       "      <td>1.691183</td>\n",
       "      <td>58.954989</td>\n",
       "      <td>two-sided</td>\n",
       "      <td>0.096082</td>\n",
       "      <td>[-7.52, 89.64]</td>\n",
       "      <td>0.412968</td>\n",
       "      <td>0.828</td>\n",
       "      <td>0.398268</td>\n",
       "    </tr>\n",
       "    <tr>\n",
       "      <th>T-test</th>\n",
       "      <td>C&gt;N</td>\n",
       "      <td>1.223858</td>\n",
       "      <td>69.848567</td>\n",
       "      <td>two-sided</td>\n",
       "      <td>0.225118</td>\n",
       "      <td>[-17.65, 73.7]</td>\n",
       "      <td>0.283242</td>\n",
       "      <td>0.453</td>\n",
       "      <td>0.229479</td>\n",
       "    </tr>\n",
       "  </tbody>\n",
       "</table>\n",
       "</div>"
      ],
      "text/plain": [
       "       contrast         T        dof alternative     p-val            CI95%  \\\n",
       "T-test      I>C  0.496602  63.135433   two-sided  0.621195  [-39.41, 65.47]   \n",
       "T-test      I>N  1.691183  58.954989   two-sided  0.096082   [-7.52, 89.64]   \n",
       "T-test      C>N  1.223858  69.848567   two-sided  0.225118   [-17.65, 73.7]   \n",
       "\n",
       "         cohen-d   BF10     power  \n",
       "T-test  0.121862  0.279  0.077934  \n",
       "T-test  0.412968  0.828  0.398268  \n",
       "T-test  0.283242  0.453  0.229479  "
      ]
     },
     "execution_count": 174,
     "metadata": {},
     "output_type": "execute_result"
    }
   ],
   "source": [
    "flanker_ttests(first_block[first_block.outlier == 0])"
   ]
  },
  {
   "cell_type": "markdown",
   "id": "ac717b1c-6c3f-4d5a-9e86-1abc91bc96bc",
   "metadata": {},
   "source": [
    "### Tighter trimming just renders all effects nonsignificant again."
   ]
  },
  {
   "cell_type": "markdown",
   "id": "5d18e194-71d2-4958-b6ee-5c5a562e3b04",
   "metadata": {},
   "source": [
    "#### Note that these results only trimmed the upper values to avoid trimming lower values from neutral and con trials (and maximizing likelihood of finding a I>C result by removing outliers); but replicating with two tailed trimming didn't remove any of the lower values. Outliers were restricted to exceptionally long RTs."
   ]
  },
  {
   "cell_type": "code",
   "execution_count": null,
   "id": "7af0b840-ad92-4cb0-9304-17feeeb8b20a",
   "metadata": {},
   "outputs": [],
   "source": []
  }
 ],
 "metadata": {
  "kernelspec": {
   "display_name": "Python 3 (ipykernel)",
   "language": "python",
   "name": "python3"
  },
  "language_info": {
   "codemirror_mode": {
    "name": "ipython",
    "version": 3
   },
   "file_extension": ".py",
   "mimetype": "text/x-python",
   "name": "python",
   "nbconvert_exporter": "python",
   "pygments_lexer": "ipython3",
   "version": "3.9.10"
  }
 },
 "nbformat": 4,
 "nbformat_minor": 5
}
